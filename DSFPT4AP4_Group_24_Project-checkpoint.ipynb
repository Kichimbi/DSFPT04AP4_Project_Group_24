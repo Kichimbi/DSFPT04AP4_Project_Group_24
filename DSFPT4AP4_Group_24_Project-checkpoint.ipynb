{
 "cells": [
  {
   "cell_type": "markdown",
   "metadata": {},
   "source": [
    "# **Moringa School**\n",
    "\n",
    "## **Group 24:** A recommendation systems analysis of NFL data to help establish predictions of specific teams \n",
    "\n",
    "Martin Kithome, Dennis Kobia, Laban Kariuki\n",
    "\n"
   ]
  },
  {
   "cell_type": "code",
   "execution_count": 1,
   "metadata": {},
   "outputs": [],
   "source": [
    "import pandas as pd\n",
    "import numpy as np"
   ]
  },
  {
   "cell_type": "code",
   "execution_count": 9,
   "metadata": {},
   "outputs": [],
   "source": [
    "nfl = pd.read_csv('nfl_elo.csv')"
   ]
  },
  {
   "cell_type": "code",
   "execution_count": 10,
   "metadata": {},
   "outputs": [
    {
     "name": "stdout",
     "output_type": "stream",
     "text": [
      "<class 'pandas.core.frame.DataFrame'>\n",
      "RangeIndex: 17379 entries, 0 to 17378\n",
      "Data columns (total 33 columns):\n",
      " #   Column          Non-Null Count  Dtype  \n",
      "---  ------          --------------  -----  \n",
      " 0   date            17379 non-null  object \n",
      " 1   season          17379 non-null  int64  \n",
      " 2   neutral         17379 non-null  int64  \n",
      " 3   playoff         616 non-null    object \n",
      " 4   team1           17379 non-null  object \n",
      " 5   team2           17379 non-null  object \n",
      " 6   elo1_pre        17379 non-null  float64\n",
      " 7   elo2_pre        17379 non-null  float64\n",
      " 8   elo_prob1       17379 non-null  float64\n",
      " 9   elo_prob2       17379 non-null  float64\n",
      " 10  elo1_post       17379 non-null  float64\n",
      " 11  elo2_post       17379 non-null  float64\n",
      " 12  qbelo1_pre      15217 non-null  float64\n",
      " 13  qbelo2_pre      15217 non-null  float64\n",
      " 14  qb1             15217 non-null  object \n",
      " 15  qb2             15217 non-null  object \n",
      " 16  qb1_value_pre   15217 non-null  float64\n",
      " 17  qb2_value_pre   15217 non-null  float64\n",
      " 18  qb1_adj         15217 non-null  float64\n",
      " 19  qb2_adj         15217 non-null  float64\n",
      " 20  qbelo_prob1     15217 non-null  float64\n",
      " 21  qbelo_prob2     15217 non-null  float64\n",
      " 22  qb1_game_value  15217 non-null  float64\n",
      " 23  qb2_game_value  15217 non-null  float64\n",
      " 24  qb1_value_post  15217 non-null  float64\n",
      " 25  qb2_value_post  15217 non-null  float64\n",
      " 26  qbelo1_post     15217 non-null  float64\n",
      " 27  qbelo2_post     15217 non-null  float64\n",
      " 28  score1          17379 non-null  int64  \n",
      " 29  score2          17379 non-null  int64  \n",
      " 30  quality         15217 non-null  float64\n",
      " 31  importance      569 non-null    float64\n",
      " 32  total_rating    569 non-null    float64\n",
      "dtypes: float64(23), int64(4), object(6)\n",
      "memory usage: 4.4+ MB\n"
     ]
    }
   ],
   "source": [
    "nfl.info()"
   ]
  },
  {
   "cell_type": "code",
   "execution_count": 12,
   "metadata": {},
   "outputs": [],
   "source": [
    "nfl_latest = pd.read_csv('nfl_elo_latest.csv')"
   ]
  },
  {
   "cell_type": "code",
   "execution_count": 13,
   "metadata": {},
   "outputs": [
    {
     "name": "stdout",
     "output_type": "stream",
     "text": [
      "<class 'pandas.core.frame.DataFrame'>\n",
      "RangeIndex: 284 entries, 0 to 283\n",
      "Data columns (total 33 columns):\n",
      " #   Column          Non-Null Count  Dtype  \n",
      "---  ------          --------------  -----  \n",
      " 0   date            284 non-null    object \n",
      " 1   season          284 non-null    int64  \n",
      " 2   neutral         284 non-null    int64  \n",
      " 3   playoff         13 non-null     object \n",
      " 4   team1           284 non-null    object \n",
      " 5   team2           284 non-null    object \n",
      " 6   elo1_pre        284 non-null    float64\n",
      " 7   elo2_pre        284 non-null    float64\n",
      " 8   elo_prob1       284 non-null    float64\n",
      " 9   elo_prob2       284 non-null    float64\n",
      " 10  elo1_post       284 non-null    float64\n",
      " 11  elo2_post       284 non-null    float64\n",
      " 12  qbelo1_pre      284 non-null    float64\n",
      " 13  qbelo2_pre      284 non-null    float64\n",
      " 14  qb1             284 non-null    object \n",
      " 15  qb2             284 non-null    object \n",
      " 16  qb1_value_pre   284 non-null    float64\n",
      " 17  qb2_value_pre   284 non-null    float64\n",
      " 18  qb1_adj         284 non-null    float64\n",
      " 19  qb2_adj         284 non-null    float64\n",
      " 20  qbelo_prob1     284 non-null    float64\n",
      " 21  qbelo_prob2     284 non-null    float64\n",
      " 22  qb1_game_value  284 non-null    float64\n",
      " 23  qb2_game_value  284 non-null    float64\n",
      " 24  qb1_value_post  284 non-null    float64\n",
      " 25  qb2_value_post  284 non-null    float64\n",
      " 26  qbelo1_post     284 non-null    float64\n",
      " 27  qbelo2_post     284 non-null    float64\n",
      " 28  score1          284 non-null    int64  \n",
      " 29  score2          284 non-null    int64  \n",
      " 30  quality         284 non-null    int64  \n",
      " 31  importance      284 non-null    int64  \n",
      " 32  total_rating    284 non-null    int64  \n",
      "dtypes: float64(20), int64(7), object(6)\n",
      "memory usage: 73.3+ KB\n"
     ]
    }
   ],
   "source": [
    "nfl_latest.info()"
   ]
  },
  {
   "cell_type": "code",
   "execution_count": null,
   "metadata": {},
   "outputs": [],
   "source": []
  }
 ],
 "metadata": {
  "kernelspec": {
   "display_name": "Python (learn-env)",
   "language": "python",
   "name": "learn-env"
  },
  "language_info": {
   "codemirror_mode": {
    "name": "ipython",
    "version": 3
   },
   "file_extension": ".py",
   "mimetype": "text/x-python",
   "name": "python",
   "nbconvert_exporter": "python",
   "pygments_lexer": "ipython3",
   "version": "3.9.13"
  }
 },
 "nbformat": 4,
 "nbformat_minor": 4
}
